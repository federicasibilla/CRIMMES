{
 "cells": [
  {
   "cell_type": "markdown",
   "metadata": {},
   "source": [
    "# Notebook to compare across space and well-mixed, O and F"
   ]
  },
  {
   "cell_type": "code",
   "execution_count": 62,
   "metadata": {},
   "outputs": [],
   "source": [
    "# import of necessary files from other folders\n",
    "\n",
    "import os\n",
    "import sys\n",
    "import ast\n",
    "\n",
    "# libraries imports\n",
    "\n",
    "import importlib\n",
    "import numpy as np\n",
    "import matplotlib.pyplot as plt\n",
    "import tempfile\n",
    "import seaborn as sns\n",
    "import pandas as pd\n",
    "import pickle\n",
    "\n",
    "from IPython.display import Image, display\n",
    "from PIL import Image\n",
    "from pathlib import Path\n",
    "from scipy.integrate import solve_ivp\n",
    "from matplotlib.colors import LinearSegmentedColormap,TwoSlopeNorm\n",
    "\n",
    "# Set default figure and axes background color to white\n",
    "plt.rcParams['figure.facecolor'] = 'white'  # Background for the entire figure\n",
    "plt.rcParams['axes.facecolor'] = 'white' \n",
    "\n",
    "# Function to check if a string can be converted to a float or an integer\n",
    "def is_number(value):\n",
    "    try:\n",
    "        float(value)\n",
    "        return True\n",
    "    except ValueError:\n",
    "        return False"
   ]
  },
  {
   "cell_type": "markdown",
   "metadata": {},
   "source": [
    "## Import from all datasets"
   ]
  },
  {
   "cell_type": "code",
   "execution_count": 63,
   "metadata": {},
   "outputs": [
    {
     "name": "stdout",
     "output_type": "stream",
     "text": [
      "547\n"
     ]
    },
    {
     "data": {
      "text/html": [
       "<div>\n",
       "<style scoped>\n",
       "    .dataframe tbody tr th:only-of-type {\n",
       "        vertical-align: middle;\n",
       "    }\n",
       "\n",
       "    .dataframe tbody tr th {\n",
       "        vertical-align: top;\n",
       "    }\n",
       "\n",
       "    .dataframe thead th {\n",
       "        text-align: right;\n",
       "    }\n",
       "</style>\n",
       "<table border=\"1\" class=\"dataframe\">\n",
       "  <thead>\n",
       "    <tr style=\"text-align: right;\">\n",
       "      <th></th>\n",
       "      <th>n_consumed</th>\n",
       "      <th>n_produced</th>\n",
       "      <th>leakage</th>\n",
       "      <th>PCS_bias</th>\n",
       "      <th>PCS_var</th>\n",
       "      <th>replica</th>\n",
       "      <th>C_F</th>\n",
       "      <th>C_O</th>\n",
       "      <th>D_F</th>\n",
       "      <th>D_O</th>\n",
       "      <th>...</th>\n",
       "      <th>g0_F</th>\n",
       "      <th>A_f</th>\n",
       "      <th>g0_O</th>\n",
       "      <th>A_O</th>\n",
       "      <th>richness_F</th>\n",
       "      <th>richness_O</th>\n",
       "      <th>collapse_F</th>\n",
       "      <th>collapse_O</th>\n",
       "      <th>shannon_F</th>\n",
       "      <th>shannon_O</th>\n",
       "    </tr>\n",
       "  </thead>\n",
       "  <tbody>\n",
       "    <tr>\n",
       "      <th>0</th>\n",
       "      <td>1</td>\n",
       "      <td>1</td>\n",
       "      <td>0.2</td>\n",
       "      <td>1.0</td>\n",
       "      <td>0.1</td>\n",
       "      <td>100</td>\n",
       "      <td>([[0.8250234526945303, 0.899242270332405, 0.0,...</td>\n",
       "      <td>([[0.8250234526945303, 1.0, 0.0, 0.0, 0.0, 0.0...</td>\n",
       "      <td>([[0.0, 0.0, 0.0, 0.0, 0.0, 0.0, 0.0, 0.0, 0.0...</td>\n",
       "      <td>([[0.0, 0.0, 0.0, 0.0, 0.0, 0.0, 0.0, 0.0, 0.0...</td>\n",
       "      <td>...</td>\n",
       "      <td>([31.53798728170867, 39.53673340484759, 42.634...</td>\n",
       "      <td>([[-0.005832422312122297, -0.00731164306969627...</td>\n",
       "      <td>([3.4551980181297886, 3.455196700458753, 3.455...</td>\n",
       "      <td>[[-0.013882183056643106, -0.006787220567049379...</td>\n",
       "      <td>1</td>\n",
       "      <td>7</td>\n",
       "      <td>no</td>\n",
       "      <td>no</td>\n",
       "      <td>0.000003</td>\n",
       "      <td>1.699293</td>\n",
       "    </tr>\n",
       "  </tbody>\n",
       "</table>\n",
       "<p>1 rows × 26 columns</p>\n",
       "</div>"
      ],
      "text/plain": [
       "  n_consumed n_produced  leakage  PCS_bias  PCS_var replica  \\\n",
       "0          1          1      0.2       1.0      0.1     100   \n",
       "\n",
       "                                                 C_F  \\\n",
       "0  ([[0.8250234526945303, 0.899242270332405, 0.0,...   \n",
       "\n",
       "                                                 C_O  \\\n",
       "0  ([[0.8250234526945303, 1.0, 0.0, 0.0, 0.0, 0.0...   \n",
       "\n",
       "                                                 D_F  \\\n",
       "0  ([[0.0, 0.0, 0.0, 0.0, 0.0, 0.0, 0.0, 0.0, 0.0...   \n",
       "\n",
       "                                                 D_O  ...  \\\n",
       "0  ([[0.0, 0.0, 0.0, 0.0, 0.0, 0.0, 0.0, 0.0, 0.0...  ...   \n",
       "\n",
       "                                                g0_F  \\\n",
       "0  ([31.53798728170867, 39.53673340484759, 42.634...   \n",
       "\n",
       "                                                 A_f  \\\n",
       "0  ([[-0.005832422312122297, -0.00731164306969627...   \n",
       "\n",
       "                                                g0_O  \\\n",
       "0  ([3.4551980181297886, 3.455196700458753, 3.455...   \n",
       "\n",
       "                                                 A_O richness_F richness_O  \\\n",
       "0  [[-0.013882183056643106, -0.006787220567049379...          1          7   \n",
       "\n",
       "  collapse_F collapse_O shannon_F shannon_O  \n",
       "0         no         no  0.000003  1.699293  \n",
       "\n",
       "[1 rows x 26 columns]"
      ]
     },
     "execution_count": 63,
     "metadata": {},
     "output_type": "execute_result"
    }
   ],
   "source": [
    "wm_df = pd.read_pickle(Path('path to aux.pkl'))\n",
    "print(len(wm_df))\n",
    "wm_df.head(1)"
   ]
  },
  {
   "cell_type": "code",
   "execution_count": 81,
   "metadata": {},
   "outputs": [
    {
     "data": {
      "text/plain": [
       "546"
      ]
     },
     "execution_count": 81,
     "metadata": {},
     "output_type": "execute_result"
    }
   ],
   "source": [
    "df_space_O= pd.read_pickle('path to df_O_sr or lr etc')"
   ]
  },
  {
   "cell_type": "code",
   "execution_count": null,
   "metadata": {},
   "outputs": [],
   "source": [
    "df_space_F= pd.read_pickle('path to df_F_sr or lr etc')"
   ]
  },
  {
   "cell_type": "markdown",
   "metadata": {},
   "source": [
    "## Merge dataframes"
   ]
  },
  {
   "cell_type": "code",
   "execution_count": 85,
   "metadata": {},
   "outputs": [
    {
     "name": "stdout",
     "output_type": "stream",
     "text": [
      "547\n"
     ]
    },
    {
     "data": {
      "text/html": [
       "<div>\n",
       "<style scoped>\n",
       "    .dataframe tbody tr th:only-of-type {\n",
       "        vertical-align: middle;\n",
       "    }\n",
       "\n",
       "    .dataframe tbody tr th {\n",
       "        vertical-align: top;\n",
       "    }\n",
       "\n",
       "    .dataframe thead th {\n",
       "        text-align: right;\n",
       "    }\n",
       "</style>\n",
       "<table border=\"1\" class=\"dataframe\">\n",
       "  <thead>\n",
       "    <tr style=\"text-align: right;\">\n",
       "      <th></th>\n",
       "      <th>n_consumed</th>\n",
       "      <th>n_produced</th>\n",
       "      <th>leakage</th>\n",
       "      <th>PCS_bias</th>\n",
       "      <th>PCS_var</th>\n",
       "      <th>replica</th>\n",
       "      <th>C_F_x</th>\n",
       "      <th>C_O_x</th>\n",
       "      <th>D_F_x</th>\n",
       "      <th>D_O_x</th>\n",
       "      <th>...</th>\n",
       "      <th>R_sp_O</th>\n",
       "      <th>grid_sp_O</th>\n",
       "      <th>N_sp_O</th>\n",
       "      <th>sh_sp_O</th>\n",
       "      <th>C_O_y</th>\n",
       "      <th>D_O_y</th>\n",
       "      <th>spec_y</th>\n",
       "      <th>CR_R_O_y</th>\n",
       "      <th>CR_N_O_y</th>\n",
       "      <th>t_list_O</th>\n",
       "    </tr>\n",
       "  </thead>\n",
       "  <tbody>\n",
       "    <tr>\n",
       "      <th>0</th>\n",
       "      <td>1</td>\n",
       "      <td>1</td>\n",
       "      <td>0.2</td>\n",
       "      <td>1.0</td>\n",
       "      <td>0.1</td>\n",
       "      <td>5</td>\n",
       "      <td>([[1.044122748688504, 0.0, 0.0, 0.0, 0.0, 0.0,...</td>\n",
       "      <td>([[1.044122748688504, 0.0, 0.0, 0.0, 0.0, 0.0,...</td>\n",
       "      <td>([[0.0, 0.0, 0.0, 0.0, 0.0, 0.0, 0.0, 0.0, 0.0...</td>\n",
       "      <td>([[0.0, 0.0, 0.0, 0.0, 0.0, 0.0, 0.0, 0.0, 0.0...</td>\n",
       "      <td>...</td>\n",
       "      <td>[[[0.009238033028057825, 0.001075908469896016,...</td>\n",
       "      <td>[[[0, 0, 1, 0, 0, 0, 0, 0], [0, 0, 0, 0, 0, 1,...</td>\n",
       "      <td>[[0.122, 0.1183, 0.1239, 0.1251, 0.1299, 0.125...</td>\n",
       "      <td>[2.0790421505389913, 1.939336028004116, 1.9374...</td>\n",
       "      <td>[[1.044122748688504, 0.0, 0.0, 0.0, 0.0, 0.0, ...</td>\n",
       "      <td>[[0.0, 0.0, 0.0, 0.0, 0.0, 0.0, 0.0, 0.0, 0.0,...</td>\n",
       "      <td>[[0.0, 0.0, 0.0, 0.0, 0.0, 0.0, 0.0, 0.0, 0.0,...</td>\n",
       "      <td>([[10000.0, 10000.0, 10000.0, 10000.0, 10000.0...</td>\n",
       "      <td>([[1.0446709833124508, 0.8931513554923691, 0.9...</td>\n",
       "      <td>[0, 0, 0.158040485604848, 37.95203364179555, 3...</td>\n",
       "    </tr>\n",
       "  </tbody>\n",
       "</table>\n",
       "<p>1 rows × 48 columns</p>\n",
       "</div>"
      ],
      "text/plain": [
       "  n_consumed n_produced leakage  PCS_bias  PCS_var replica  \\\n",
       "0          1          1     0.2       1.0      0.1       5   \n",
       "\n",
       "                                               C_F_x  \\\n",
       "0  ([[1.044122748688504, 0.0, 0.0, 0.0, 0.0, 0.0,...   \n",
       "\n",
       "                                               C_O_x  \\\n",
       "0  ([[1.044122748688504, 0.0, 0.0, 0.0, 0.0, 0.0,...   \n",
       "\n",
       "                                               D_F_x  \\\n",
       "0  ([[0.0, 0.0, 0.0, 0.0, 0.0, 0.0, 0.0, 0.0, 0.0...   \n",
       "\n",
       "                                               D_O_x  ...  \\\n",
       "0  ([[0.0, 0.0, 0.0, 0.0, 0.0, 0.0, 0.0, 0.0, 0.0...  ...   \n",
       "\n",
       "                                              R_sp_O  \\\n",
       "0  [[[0.009238033028057825, 0.001075908469896016,...   \n",
       "\n",
       "                                           grid_sp_O  \\\n",
       "0  [[[0, 0, 1, 0, 0, 0, 0, 0], [0, 0, 0, 0, 0, 1,...   \n",
       "\n",
       "                                              N_sp_O  \\\n",
       "0  [[0.122, 0.1183, 0.1239, 0.1251, 0.1299, 0.125...   \n",
       "\n",
       "                                             sh_sp_O  \\\n",
       "0  [2.0790421505389913, 1.939336028004116, 1.9374...   \n",
       "\n",
       "                                               C_O_y  \\\n",
       "0  [[1.044122748688504, 0.0, 0.0, 0.0, 0.0, 0.0, ...   \n",
       "\n",
       "                                               D_O_y  \\\n",
       "0  [[0.0, 0.0, 0.0, 0.0, 0.0, 0.0, 0.0, 0.0, 0.0,...   \n",
       "\n",
       "                                              spec_y  \\\n",
       "0  [[0.0, 0.0, 0.0, 0.0, 0.0, 0.0, 0.0, 0.0, 0.0,...   \n",
       "\n",
       "                                            CR_R_O_y  \\\n",
       "0  ([[10000.0, 10000.0, 10000.0, 10000.0, 10000.0...   \n",
       "\n",
       "                                            CR_N_O_y  \\\n",
       "0  ([[1.0446709833124508, 0.8931513554923691, 0.9...   \n",
       "\n",
       "                                            t_list_O  \n",
       "0  [0, 0, 0.158040485604848, 37.95203364179555, 3...  \n",
       "\n",
       "[1 rows x 48 columns]"
      ]
     },
     "execution_count": 85,
     "metadata": {},
     "output_type": "execute_result"
    }
   ],
   "source": [
    "# First, merge wm_df with df_space_F on the common columns\n",
    "merged_df = pd.merge(wm_df, df_space_F, on=['leakage', 'n_consumed', 'n_produced','replica'], how='outer')\n",
    "final_merged_df = pd.merge(merged_df, df_space_O, on=['leakage', 'n_consumed', 'n_produced','replica'], how='outer')\n",
    "\n",
    "# Display the number of rows in the final merged dataframe and the first row\n",
    "print(len(final_merged_df))\n",
    "final_merged_df.head(1)"
   ]
  },
  {
   "cell_type": "code",
   "execution_count": 86,
   "metadata": {},
   "outputs": [
    {
     "data": {
      "text/plain": [
       "31"
      ]
     },
     "execution_count": 86,
     "metadata": {},
     "output_type": "execute_result"
    }
   ],
   "source": [
    "df_weird = final_merged_df[(final_merged_df['R_sp_F'].apply(lambda x: np.any(x<0)))|(final_merged_df['R_sp_F'].apply(lambda x: np.any(x<0)))]\n",
    "len(df_weird)"
   ]
  },
  {
   "cell_type": "code",
   "execution_count": 87,
   "metadata": {},
   "outputs": [
    {
     "data": {
      "text/plain": [
       "516"
      ]
     },
     "execution_count": 87,
     "metadata": {},
     "output_type": "execute_result"
    }
   ],
   "source": [
    "final_merged_df = final_merged_df.loc[~final_merged_df.index.isin(df_weird.index)]\n",
    "len(final_merged_df)"
   ]
  },
  {
   "cell_type": "markdown",
   "metadata": {},
   "source": [
    "## Time distributions for space"
   ]
  },
  {
   "cell_type": "code",
   "execution_count": 88,
   "metadata": {},
   "outputs": [
    {
     "data": {
      "image/png": "[encoded data removed]",
      "text/plain": [
       "<Figure size 1600x600 with 2 Axes>"
      ]
     },
     "metadata": {},
     "output_type": "display_data"
    }
   ],
   "source": [
    "import seaborn as sns\n",
    "from itertools import chain\n",
    "\n",
    "# Extract all values from the columns\n",
    "t_list_F_values = list(chain.from_iterable(df_space_F['t_list_F']))\n",
    "t_list_O_values = list(chain.from_iterable(df_space_O['t_list_O']))\n",
    "\n",
    "# Set the style and color palette\n",
    "sns.set(style=\"whitegrid\")\n",
    "\n",
    "# Create subplots\n",
    "fig, axs = plt.subplots(1, 2, figsize=(16, 6))\n",
    "\n",
    "# Plot the distribution of t_list_O\n",
    "sns.histplot(t_list_O_values, bins=20, color='blue', kde=True, ax=axs[0])\n",
    "axs[0].set_title('Distribution of t_list_O', fontsize=14)\n",
    "axs[0].set_xlabel('Values', fontsize=12)\n",
    "axs[0].set_ylabel('Frequency', fontsize=12)\n",
    "\n",
    "# Plot the distribution of t_list_F\n",
    "sns.histplot(t_list_F_values, bins=20, color='green', kde=True, ax=axs[1])\n",
    "axs[1].set_title('Distribution of t_list_F', fontsize=14)\n",
    "axs[1].set_xlabel('Values', fontsize=12)\n",
    "axs[1].set_ylabel('Frequency', fontsize=12)\n",
    "\n",
    "# Adjust layout\n",
    "plt.tight_layout()\n",
    "\n",
    "# Show the plot\n",
    "plt.show()"
   ]
  },
  {
   "cell_type": "markdown",
   "metadata": {},
   "source": [
    "## compare diversity for O and F"
   ]
  },
  {
   "cell_type": "code",
   "execution_count": 100,
   "metadata": {},
   "outputs": [],
   "source": [
    "final_merged_df['shannon_sp_O'] = final_merged_df['sh_sp_O'].apply(lambda x: x[-1] if isinstance(x, list) and len(x) > 0 else np.nan)\n",
    "final_merged_df['shannon_sp_F'] = final_merged_df['sh_sp_F'].apply(lambda x: x[-1] if isinstance(x, list) and len(x) > 0 else np.nan)"
   ]
  },
  {
   "cell_type": "markdown",
   "metadata": {},
   "source": [
    "## T tests comparisons"
   ]
  },
  {
   "cell_type": "code",
   "execution_count": 109,
   "metadata": {},
   "outputs": [
    {
     "name": "stdout",
     "output_type": "stream",
     "text": [
      "Original p-values: [np.float64(2.2334968507059135e-27), np.float64(4.328385568754653e-25), np.float64(9.405223888432148e-76), np.float64(4.963336983887882e-123)]\n",
      "Corrected p-values (Bonferroni): [8.93398740e-027 1.73135423e-024 3.76208956e-075 1.98533479e-122]\n",
      "Test 1: Significant (p = 0.0000)\n",
      "Test 2: Significant (p = 0.0000)\n",
      "Test 3: Significant (p = 0.0000)\n",
      "Test 4: Significant (p = 0.0000)\n"
     ]
    }
   ],
   "source": [
    "from scipy.stats import ttest_rel\n",
    "from statsmodels.stats.multitest import multipletests\n",
    "\n",
    "final_merged_df = final_merged_df.dropna(subset=['shannon_F', 'shannon_O', 'shannon_sp_F', 'shannon_sp_O'])\n",
    "\n",
    "\n",
    "# Assuming final_merged_df is your DataFrame\n",
    "diversity_wm_F = final_merged_df['shannon_F']\n",
    "diversity_wm_O = final_merged_df['shannon_O']\n",
    "diversity_sp_F = final_merged_df['shannon_sp_F']\n",
    "diversity_sp_O = final_merged_df['shannon_sp_O']\n",
    "\n",
    "# Perform paired t-tests\n",
    "t_statistic_wm, p_value_wm = ttest_rel(diversity_wm_F, diversity_wm_O)  # wm_F vs wm_O\n",
    "t_statistic_sp, p_value_sp = ttest_rel(diversity_sp_F, diversity_sp_O)  # sp_F vs sp_O\n",
    "t_statistic_F, p_value_F = ttest_rel(diversity_wm_F, diversity_sp_F)    # wm_F vs sp_F\n",
    "t_statistic_O, p_value_O = ttest_rel(diversity_wm_O, diversity_sp_O)    # wm_O vs sp_O\n",
    "\n",
    "# Store p-values in a list\n",
    "p_values = [p_value_wm, p_value_sp, p_value_F, p_value_O]\n",
    "\n",
    "# Correct for multiple testing using Bonferroni or FDR\n",
    "corrected_p_values = multipletests(p_values, method='bonferroni')[1]  # Use 'fdr_bh' for FDR\n",
    "\n",
    "# Print results\n",
    "print(\"Original p-values:\", p_values)\n",
    "print(\"Corrected p-values (Bonferroni):\", corrected_p_values)\n",
    "\n",
    "# Interpret results\n",
    "alpha = 0.05  # Significance level\n",
    "for i, p in enumerate(corrected_p_values):\n",
    "    if p < alpha:\n",
    "        print(f\"Test {i+1}: Significant (p = {p:.4f})\")\n",
    "    else:\n",
    "        print(f\"Test {i+1}: Not significant (p = {p:.4f})\")"
   ]
  },
  {
   "cell_type": "markdown",
   "metadata": {},
   "source": [
    "## ANOVA within groups"
   ]
  },
  {
   "cell_type": "code",
   "execution_count": 111,
   "metadata": {},
   "outputs": [
    {
     "name": "stderr",
     "output_type": "stream",
     "text": [
      "/users/fsibilla/env_MES/lib64/python3.9/site-packages/statsmodels/base/model.py:1894: ValueWarning: covariance of constraints does not have full rank. The number of constraints is 4, but rank is 3\n",
      "  warnings.warn('covariance of constraints does not have full '\n"
     ]
    },
    {
     "name": "stderr",
     "output_type": "stream",
     "text": [
      "/users/fsibilla/env_MES/lib64/python3.9/site-packages/statsmodels/base/model.py:1894: ValueWarning: covariance of constraints does not have full rank. The number of constraints is 4, but rank is 3\n",
      "  warnings.warn('covariance of constraints does not have full '\n",
      "/users/fsibilla/env_MES/lib64/python3.9/site-packages/statsmodels/base/model.py:1894: ValueWarning: covariance of constraints does not have full rank. The number of constraints is 4, but rank is 3\n",
      "  warnings.warn('covariance of constraints does not have full '\n",
      "/users/fsibilla/env_MES/lib64/python3.9/site-packages/statsmodels/base/model.py:1894: ValueWarning: covariance of constraints does not have full rank. The number of constraints is 4, but rank is 3\n",
      "  warnings.warn('covariance of constraints does not have full '\n"
     ]
    }
   ],
   "source": [
    "from statsmodels.formula.api import ols\n",
    "from statsmodels.stats.anova import anova_lm\n",
    "\n",
    "# Assuming final_merged_df is your DataFrame\n",
    "# Ensure your DataFrame has the necessary columns: 'shannon_F', 'shannon_O', 'shannon_sp_F', 'shannon_sp_O', 'leakage', 'n_consumed', and 'n_produced'\n",
    "\n",
    "# Define the diversity measures\n",
    "diversity_measures = ['shannon_F', 'shannon_O', 'shannon_sp_F', 'shannon_sp_O']\n",
    "\n",
    "# Initialize a dictionary to store the ANOVA results\n",
    "anova_results_dict = {}\n",
    "\n",
    "# Perform three-way ANOVA for each diversity measure and store the results\n",
    "for diversity in diversity_measures:\n",
    "    model = ols(f'{diversity} ~ C(leakage) * C(n_consumed) * C(n_produced)', data=final_merged_df).fit()\n",
    "    anova_results = anova_lm(model, typ=2)\n",
    "    anova_results_dict[diversity] = anova_results\n",
    "\n",
    "# Write results to a text file\n",
    "with open('anova_results.txt', 'w') as file:\n",
    "    for diversity, results in anova_results_dict.items():\n",
    "        file.write(f'ANOVA results for {diversity}:\\n')\n",
    "        file.write(results.to_string())\n",
    "        file.write('\\n\\n')"
   ]
  },
  {
   "cell_type": "code",
   "execution_count": null,
   "metadata": {},
   "outputs": [],
   "source": []
  }
 ],
 "metadata": {
  "kernelspec": {
   "display_name": "env_MES",
   "language": "python",
   "name": "python3"
  },
  "language_info": {
   "codemirror_mode": {
    "name": "ipython",
    "version": 3
   },
   "file_extension": ".py",
   "mimetype": "text/x-python",
   "name": "python",
   "nbconvert_exporter": "python",
   "pygments_lexer": "ipython3",
   "version": "3.9.18"
  }
 },
 "nbformat": 4,
 "nbformat_minor": 2
}
